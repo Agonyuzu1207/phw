{
 "cells": [
  {
   "cell_type": "code",
   "execution_count": 18,
   "id": "initial_id",
   "metadata": {
    "collapsed": true,
    "ExecuteTime": {
     "end_time": "2024-07-29T13:03:08.348743600Z",
     "start_time": "2024-07-29T13:03:08.333121500Z"
    }
   },
   "outputs": [],
   "source": [
    "import json\n",
    "import os.path\n"
   ]
  },
  {
   "cell_type": "code",
   "execution_count": 30,
   "outputs": [],
   "source": [
    "path1 = '../Rule/output/WIKI/rennWIKI.json'\n",
    "with open(path1, 'r', encoding='utf-8') as f:\n",
    "    data1 = json.load(f)"
   ],
   "metadata": {
    "collapsed": false,
    "ExecuteTime": {
     "end_time": "2024-07-29T13:12:50.576944Z",
     "start_time": "2024-07-29T13:12:50.561314Z"
    }
   },
   "id": "f0e188dcdce89df8"
  },
  {
   "cell_type": "code",
   "execution_count": 31,
   "outputs": [
    {
     "name": "stdout",
     "output_type": "stream",
     "text": [
      "5\n"
     ]
    }
   ],
   "source": [
    "all_list = []\n",
    "for k, v in data1.items():\n",
    "    all_list += v\n",
    "print(len(all_list))"
   ],
   "metadata": {
    "collapsed": false,
    "ExecuteTime": {
     "end_time": "2024-07-29T13:12:52.128336900Z",
     "start_time": "2024-07-29T13:12:52.091784800Z"
    }
   },
   "id": "a80f263f648a39cb"
  },
  {
   "cell_type": "code",
   "execution_count": 32,
   "outputs": [],
   "source": [
    "def checknum(data):\n",
    "    all_list = []\n",
    "    for k, v in data.items():\n",
    "        all_list += v\n",
    "    print(len(all_list))\n",
    "def read_file(path):\n",
    "    with open(path, 'r', encoding='utf-8') as f:\n",
    "        data = json.load(f)\n",
    "    return data"
   ],
   "metadata": {
    "collapsed": false,
    "ExecuteTime": {
     "end_time": "2024-07-29T13:12:53.919979100Z",
     "start_time": "2024-07-29T13:12:53.904349400Z"
    }
   },
   "id": "2ae16e0eec54f6e6"
  },
  {
   "cell_type": "code",
   "execution_count": 33,
   "outputs": [
    {
     "data": {
      "text/plain": "True"
     },
     "execution_count": 33,
     "metadata": {},
     "output_type": "execute_result"
    }
   ],
   "source": [
    "path2='../Rule/Output/WIKI/181023201000_r[1,2,3]_n200_exp_s12_rules.json'\n",
    "os.path.exists(path2)"
   ],
   "metadata": {
    "collapsed": false,
    "ExecuteTime": {
     "end_time": "2024-07-29T13:12:56.079813400Z",
     "start_time": "2024-07-29T13:12:56.061050800Z"
    }
   },
   "id": "3170c2ebc6870891"
  },
  {
   "cell_type": "code",
   "execution_count": 34,
   "outputs": [
    {
     "name": "stdout",
     "output_type": "stream",
     "text": [
      "570\n"
     ]
    }
   ],
   "source": [
    "checknum(read_file(path2))"
   ],
   "metadata": {
    "collapsed": false,
    "ExecuteTime": {
     "end_time": "2024-07-29T13:12:58.170114400Z",
     "start_time": "2024-07-29T13:12:58.159959700Z"
    }
   },
   "id": "cf61e3dd30b4a494"
  }
 ],
 "metadata": {
  "kernelspec": {
   "display_name": "Python 3",
   "language": "python",
   "name": "python3"
  },
  "language_info": {
   "codemirror_mode": {
    "name": "ipython",
    "version": 2
   },
   "file_extension": ".py",
   "mimetype": "text/x-python",
   "name": "python",
   "nbconvert_exporter": "python",
   "pygments_lexer": "ipython2",
   "version": "2.7.6"
  }
 },
 "nbformat": 4,
 "nbformat_minor": 5
}
