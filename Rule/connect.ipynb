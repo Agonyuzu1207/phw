{
 "cells": [
  {
   "cell_type": "code",
   "execution_count": 19,
   "id": "initial_id",
   "metadata": {
    "collapsed": true,
    "ExecuteTime": {
     "end_time": "2024-10-26T10:29:56.758396800Z",
     "start_time": "2024-10-26T10:29:56.730248400Z"
    }
   },
   "outputs": [],
   "source": [
    "import json\n",
    "\n"
   ]
  },
  {
   "cell_type": "code",
   "execution_count": 20,
   "outputs": [],
   "source": [
    "def check_num(data):\n",
    "    for k, v in data.items():\n",
    "        print(k,\":\",len(v))\n",
    "        \n",
    "def read_file(path,type):\n",
    "    with open(path, 'r', encoding='utf-8') as f:\n",
    "        datas = json.load(f)\n",
    "    for data in datas:\n",
    "        data['type'] = type\n",
    "    return datas"
   ],
   "metadata": {
    "collapsed": false,
    "ExecuteTime": {
     "end_time": "2024-10-26T10:29:56.763447800Z",
     "start_time": "2024-10-26T10:29:56.743399200Z"
    }
   },
   "id": "49ca4075da43cd1e"
  },
  {
   "cell_type": "code",
   "execution_count": 21,
   "outputs": [
    {
     "name": "stdout",
     "output_type": "stream",
     "text": [
      "582\n",
      "6018\n",
      "6018\n",
      "6068\n",
      "6069\n",
      "6069\n"
     ]
    }
   ],
   "source": [
    "import os  \n",
    "\n",
    "\n",
    "def list_files(startpath): \n",
    "    datas = []\n",
    "    for root, dirs, files in os.walk(startpath):  \n",
    "        for file in files:  \n",
    "            if \"composition\" in file:\n",
    "                temp = read_file(os.path.join(root, file),\"composition\")\n",
    "                datas += temp\n",
    "            if \"transitive\" in file:\n",
    "                temp = read_file(os.path.join(root, file),\"transitive\")\n",
    "                datas += temp\n",
    "            if \"equivalent\" in file:\n",
    "                temp = read_file(os.path.join(root, file),\"equivalent\")\n",
    "                datas += temp\n",
    "            if \"inverse\" in file:\n",
    "                temp = read_file(os.path.join(root, file),\"inverse\")\n",
    "                datas += temp\n",
    "            if \"symmetric\" in file:\n",
    "                temp = read_file(os.path.join(root, file),\"symmetric\")\n",
    "                datas += temp\n",
    "            print(len(datas))\n",
    "    return datas\n",
    "path = \"ICEWS05-15\"\n",
    "datas = list_files(path)"
   ],
   "metadata": {
    "collapsed": false,
    "ExecuteTime": {
     "end_time": "2024-10-26T10:29:56.772567900Z",
     "start_time": "2024-10-26T10:29:56.761448Z"
    }
   },
   "id": "e5cc54192b868825"
  },
  {
   "cell_type": "code",
   "execution_count": 22,
   "outputs": [],
   "source": [
    "for index,data in enumerate(datas):\n",
    "    data['id'] = index\n"
   ],
   "metadata": {
    "collapsed": false,
    "ExecuteTime": {
     "end_time": "2024-10-26T10:29:56.801360100Z",
     "start_time": "2024-10-26T10:29:56.773567200Z"
    }
   },
   "id": "a7386b932bbe4217"
  },
  {
   "cell_type": "code",
   "execution_count": 23,
   "outputs": [],
   "source": [
    "def save_json(data, filename):\n",
    "    # print('开始保存数据，保存地址为:' + filename)\n",
    "    with open(filename, 'w') as f:\n",
    "        json.dump(data, f)\n",
    "        "
   ],
   "metadata": {
    "collapsed": false,
    "ExecuteTime": {
     "end_time": "2024-10-26T10:29:56.807418600Z",
     "start_time": "2024-10-26T10:29:56.789260700Z"
    }
   },
   "id": "8fe8a44958919a60"
  },
  {
   "cell_type": "code",
   "execution_count": 24,
   "outputs": [],
   "source": [
    "save_path = 'ICEWS05-15/ICEWS05-15.json'\n",
    "save_json(datas,save_path)"
   ],
   "metadata": {
    "collapsed": false,
    "ExecuteTime": {
     "end_time": "2024-10-26T10:29:56.881065900Z",
     "start_time": "2024-10-26T10:29:56.804419600Z"
    }
   },
   "id": "15ed51880610c91a"
  }
 ],
 "metadata": {
  "kernelspec": {
   "display_name": "Python 3",
   "language": "python",
   "name": "python3"
  },
  "language_info": {
   "codemirror_mode": {
    "name": "ipython",
    "version": 2
   },
   "file_extension": ".py",
   "mimetype": "text/x-python",
   "name": "python",
   "nbconvert_exporter": "python",
   "pygments_lexer": "ipython2",
   "version": "2.7.6"
  }
 },
 "nbformat": 4,
 "nbformat_minor": 5
}
