{
 "cells": [
  {
   "cell_type": "code",
   "execution_count": 1,
   "id": "initial_id",
   "metadata": {
    "collapsed": true,
    "ExecuteTime": {
     "end_time": "2024-11-23T02:08:33.947944600Z",
     "start_time": "2024-11-23T02:08:33.941379300Z"
    }
   },
   "outputs": [],
   "source": [
    "import json\n",
    "import os.path"
   ]
  },
  {
   "cell_type": "code",
   "execution_count": 2,
   "outputs": [],
   "source": [
    "def check_num(data):\n",
    "    for k, v in data.items():\n",
    "        print(k,\":\",len(v))\n",
    "        \n",
    "def read_file(path):\n",
    "    with open(path, 'r', encoding='utf-8') as f:\n",
    "        data = json.load(f)\n",
    "    return data"
   ],
   "metadata": {
    "collapsed": false,
    "ExecuteTime": {
     "end_time": "2024-11-23T02:08:33.964066600Z",
     "start_time": "2024-11-23T02:08:33.949948600Z"
    }
   },
   "id": "2a7cc4cf9d026a33"
  },
  {
   "cell_type": "code",
   "execution_count": 3,
   "outputs": [
    {
     "name": "stdout",
     "output_type": "stream",
     "text": [
      "symmetric : 0\n",
      "inverse : 3479\n",
      "equivalent : 3628\n",
      "transitive : 0\n",
      "composition : 84191\n"
     ]
    }
   ],
   "source": [
    "path = 'GDELT/GDELT.json'\n",
    "check_num(read_file(path))"
   ],
   "metadata": {
    "collapsed": false,
    "ExecuteTime": {
     "end_time": "2024-11-23T02:08:34.258818900Z",
     "start_time": "2024-11-23T02:08:33.965067300Z"
    }
   },
   "id": "c94253d68cd7e8de"
  },
  {
   "cell_type": "code",
   "execution_count": 4,
   "outputs": [],
   "source": [
    "rule = read_file(path)\n",
    "rule_list = []\n",
    "index = 0\n",
    "for k,values in rule.items():\n",
    "    for v in values:\n",
    "        v['id'] = index\n",
    "        v['type'] = k\n",
    "        rule_list.append(v)\n",
    "        index += 1\n",
    "    \n",
    "    \n",
    "with open(path,'w') as fp:\n",
    "    json.dump(rule_list,fp)"
   ],
   "metadata": {
    "collapsed": false,
    "ExecuteTime": {
     "end_time": "2024-11-23T02:08:36.116817900Z",
     "start_time": "2024-11-23T02:08:34.260820Z"
    }
   },
   "id": "ace05947ba04a79a"
  }
 ],
 "metadata": {
  "kernelspec": {
   "display_name": "Python 3",
   "language": "python",
   "name": "python3"
  },
  "language_info": {
   "codemirror_mode": {
    "name": "ipython",
    "version": 2
   },
   "file_extension": ".py",
   "mimetype": "text/x-python",
   "name": "python",
   "nbconvert_exporter": "python",
   "pygments_lexer": "ipython2",
   "version": "2.7.6"
  }
 },
 "nbformat": 4,
 "nbformat_minor": 5
}
